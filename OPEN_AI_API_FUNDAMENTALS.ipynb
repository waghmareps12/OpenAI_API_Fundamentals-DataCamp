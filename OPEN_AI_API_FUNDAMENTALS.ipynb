{
  "cells": [
    {
      "cell_type": "markdown",
      "metadata": {
        "id": "view-in-github",
        "colab_type": "text"
      },
      "source": [
        "<a href=\"https://colab.research.google.com/github/waghmareps12/PYTHON_DSA/blob/main/OPEN_AI_API_FUNDAMENTALS.ipynb\" target=\"_parent\"><img src=\"https://colab.research.google.com/assets/colab-badge.svg\" alt=\"Open In Colab\"/></a>"
      ]
    },
    {
      "cell_type": "code",
      "execution_count": null,
      "id": "special-sleeve",
      "metadata": {
        "id": "special-sleeve"
      },
      "outputs": [],
      "source": [
        "# prompt: IMPORT OPEN AI AND PANDSA\n",
        "\n",
        "import pandas as pd\n",
        "from openai import OpenAI\n"
      ]
    },
    {
      "cell_type": "code",
      "source": [
        "# Import the OpenAI client\n",
        "from openai import OpenAI\n",
        "\n",
        "# Create the OpenAI client and set your API key\n",
        "client = OpenAI(api_key=\"<OPENAI_TOKEN>\")\n",
        "\n",
        "# Create a request to the Completions endpoint\n",
        "response = client.completions.create(\n",
        "  # Specify the correct model\n",
        "  model=\"gpt-3.5-turbo-instruct\",\n",
        "  prompt=\"Who developed ChatGPT?\"\n",
        ")\n",
        "\n",
        "print(response)"
      ],
      "metadata": {
        "id": "2FyibgLk5KpE"
      },
      "id": "2FyibgLk5KpE",
      "execution_count": null,
      "outputs": []
    },
    {
      "cell_type": "code",
      "source": [
        "# Set your API key\n",
        "client = OpenAI(api_key='<OPENAI_TOKEN>')\n",
        "\n",
        "prompt=\"\"\"Summarize the following text into two concise bullet points:\n",
        "Investment refers to the act of committing money or capital to an enterprise with the expectation of obtaining\n",
        " an added income or profit in return. There are a variety of investment options available, including stocks, bonds,\n",
        " mutual funds, real estate, precious metals, and currencies. Making an investment decision requires careful analysis,\n",
        "  assessment of risk, and evaluation of potential rewards. Good investments have the ability to produce high returns over\n",
        "   the long term while minimizing risk. Diversification of investment portfolios reduces risk exposure. Investment can be\n",
        "    a valuable tool for building wealth, generating income, and achieving financial security. It is important to be diligent and informed when investing to avoid losses.\"\"\"\n",
        "\n",
        "# Create a request to the Completions endpoint\n",
        "response = client.completions.create(\n",
        "  model=\"gpt-3.5-turbo-instruct\"\n",
        ",\n",
        "prompt=prompt, max_tokens = 400,\n",
        "temperature =0.5 )\n",
        "\n",
        "print(response.choices[0].text)"
      ],
      "metadata": {
        "id": "zKI7wbeR4uc3"
      },
      "id": "zKI7wbeR4uc3",
      "execution_count": null,
      "outputs": []
    },
    {
      "cell_type": "code",
      "source": [
        "# Set your API key\n",
        "client = OpenAI(api_key='<OPENAI_TOKEN>')\n",
        "\n",
        "# Create a request to the Completions endpoint\n",
        "response = client.completions.create(\n",
        "  model=\"gpt-3.5-turbo-instruct\",\n",
        "  prompt ='create a slogan for a new restaurant',\n",
        "  max_tokens=100\n",
        ")\n",
        "\n",
        "print(response.choices[0].text)"
      ],
      "metadata": {
        "id": "QlTCZ5eG4ufj"
      },
      "id": "QlTCZ5eG4ufj",
      "execution_count": null,
      "outputs": []
    },
    {
      "cell_type": "code",
      "source": [
        "# Set your API key\n",
        "client = OpenAI(api_key='<OPENAI_TOKEN>')\n",
        "\n",
        "# Create a request to the Completions endpoint\n",
        "response = client.completions.create(\n",
        "  model=\"gpt-3.5-turbo-instruct\",\n",
        "  prompt='''Unbelievably good!//\n",
        "Shoes fell apart on the second use.//\n",
        "The shoes look nice, but they aren't very comfortable.//\n",
        "Can't wait to show them off! ''',\n",
        "  max_tokens=100\n",
        ")\n",
        "\n",
        "print(response.choices[0].text)"
      ],
      "metadata": {
        "id": "gJZKEGgh4uia"
      },
      "id": "gJZKEGgh4uia",
      "execution_count": null,
      "outputs": []
    },
    {
      "cell_type": "code",
      "source": [
        "# Set your API key\n",
        "client = OpenAI(api_key='<OPENAI_TOKEN>')\n",
        "\n",
        "# Create a request to the Completions endpoint\n",
        "response = client.completions.create(\n",
        "  model=\"gpt-3.5-turbo-instruct\",\n",
        "  prompt='''categorize the following companies: Apple, Microsoft, Saudi Aramco, Alphabet, Amazon, Berkshire Hathaway, NVIDIA, Meta, Tesla, and LVMH''',\n",
        "  max_tokens=100,\n",
        "  temperature=0.5\n",
        ")\n",
        "\n",
        "print(response.choices[0].text)"
      ],
      "metadata": {
        "id": "47K6ObVD4ulM"
      },
      "id": "47K6ObVD4ulM",
      "execution_count": null,
      "outputs": []
    },
    {
      "cell_type": "code",
      "source": [
        "# Set your API key\n",
        "client = OpenAI(api_key='<OPENAI_TOKEN>')\n",
        "\n",
        "# Create a request to the Chat Completions endpoint\n",
        "response = client.chat.completions.create(\n",
        "  model=\"gpt-3.5-turbo\",\n",
        "  max_tokens=150,\n",
        "  messages=[\n",
        "    {\"role\": 'system',\n",
        "     \"content\": \"You are a helpful data science tutor.\"},\n",
        "    {\"role\": \"user\"\n",
        ",\n",
        "\"content\": \"What is the difference between a for loop and a while loop??\"}\n",
        "  ]\n",
        ")\n",
        "\n",
        "# Extract and print the assistant's text response\n",
        "print(response.choices[0].message.content)"
      ],
      "metadata": {
        "id": "QXFWMUJQ4un2"
      },
      "id": "QXFWMUJQ4un2",
      "execution_count": null,
      "outputs": []
    },
    {
      "cell_type": "code",
      "source": [
        "# Set your API key\n",
        "client = OpenAI(api_key='<OPENAI_TOKEN>')\n",
        "\n",
        "instruction = \"\"\"Explain what this Python code does in one sentence:\n",
        "import numpy as np\n",
        "\n",
        "heights_dict = {\"Mark\": 1.76, \"Steve\": 1.88, \"Adnan\": 1.73}\n",
        "heights = heights_dict.values()\n",
        "print(np.mean(heights))\n",
        "\"\"\"\n",
        "\n",
        "# Create a request to the Chat Completions endpoint\n",
        "response = client.chat.completions.create(\n",
        "  model=\"gpt-3.5-turbo\",\n",
        "  messages=[{\"role\": \"user\",\n",
        "\"content\": instruction}],\n",
        "  max_tokens=100\n",
        ")\n",
        "\n",
        "print(response.choices[0].message.content)"
      ],
      "metadata": {
        "id": "4MuxcGp-4uqo"
      },
      "id": "4MuxcGp-4uqo",
      "execution_count": null,
      "outputs": []
    },
    {
      "cell_type": "code",
      "source": [
        "# Set your API key\n",
        "client = OpenAI(api_key='<OPENAI_TOKEN>')\n",
        "\n",
        "response = client.chat.completions.create(\n",
        "   model=\"gpt-3.5-turbo\",\n",
        "   # Add a user and assistant message for in-context learning\n",
        "   messages=[\n",
        "     {\"role\": \"system\", \"content\": \"You are a helpful Python programming tutor.\"},\n",
        "     {\"role\": \"user\", \"content\": \"Explain what the min() function does.\"},\n",
        "     {\"role\": \"assistant\", \"content\": \"The min() function returns the smallest item from an iterable.\"},\n",
        "     {\"role\": \"user\", \"content\": \"Explain what the type() function does.\"}\n",
        "   ]\n",
        ")\n",
        "\n",
        "print(response.choices[0].message.content)"
      ],
      "metadata": {
        "id": "fJ8bGPv24utv"
      },
      "id": "fJ8bGPv24utv",
      "execution_count": null,
      "outputs": []
    },
    {
      "cell_type": "code",
      "source": [
        "# Set your API key\n",
        "client = OpenAI(api_key='<OPENAI_TOKEN>')\n",
        "\n",
        "messages = [{\"role\": \"system\", \"content\": \"You are a helpful math tutor.\"}]\n",
        "user_msgs = [\"Explain what pi is.\", \"Summarize this in two bullet points.\"]\n",
        "\n",
        "for q in user_msgs:\n",
        "    print(\"User: \", q)\n",
        "\n",
        "    # Create a dictionary for the user message from q and append to messages\n",
        "    user_dict = {\"role\": 'user', \"content\": q}\n",
        "    messages.append(user_dict )\n",
        "\n",
        "    # Create the API request\n",
        "    response = client.chat.completions.create(\n",
        "        model=\"gpt-3.5-turbo\",\n",
        "        messages=messages,\n",
        "        max_tokens=100\n",
        "    )\n",
        "\n",
        "    # Convert the assistant's message to a dict and append to messages\n",
        "    assistant_dict = {\"role\": \"assistant\",\n",
        "    \"content\": response.choices[0].message.content}\n",
        "    messages.append(assistant_dict)\n",
        "    print(\"Assistant: \", response.choices[0].message.content, \"\\n\")"
      ],
      "metadata": {
        "id": "GCrmphbD4uwb"
      },
      "id": "GCrmphbD4uwb",
      "execution_count": null,
      "outputs": []
    },
    {
      "cell_type": "code",
      "source": [],
      "metadata": {
        "id": "i4EBaevS8f4Q"
      },
      "id": "i4EBaevS8f4Q",
      "execution_count": null,
      "outputs": []
    }
  ],
  "metadata": {
    "kernelspec": {
      "display_name": "Python 3",
      "language": "python",
      "name": "python3"
    },
    "language_info": {
      "codemirror_mode": {
        "name": "ipython",
        "version": 3
      },
      "file_extension": ".py",
      "mimetype": "text/x-python",
      "name": "python",
      "nbconvert_exporter": "python",
      "pygments_lexer": "ipython3",
      "version": "3.9.2"
    },
    "colab": {
      "provenance": [],
      "include_colab_link": true
    }
  },
  "nbformat": 4,
  "nbformat_minor": 5
}
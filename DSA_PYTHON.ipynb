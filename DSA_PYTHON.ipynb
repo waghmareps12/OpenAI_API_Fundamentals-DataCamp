{
  "cells": [
    {
      "cell_type": "markdown",
      "metadata": {
        "id": "view-in-github",
        "colab_type": "text"
      },
      "source": [
        "<a href=\"https://colab.research.google.com/github/waghmareps12/PYTHON_DSA/blob/main/DSA_PYTHON.ipynb\" target=\"_parent\"><img src=\"https://colab.research.google.com/assets/colab-badge.svg\" alt=\"Open In Colab\"/></a>"
      ]
    },
    {
      "cell_type": "code",
      "execution_count": null,
      "metadata": {
        "id": "2wmvJzEnC_T0"
      },
      "outputs": [],
      "source": []
    },
    {
      "cell_type": "markdown",
      "source": [
        "### [Neetcode Roadmap](https://neetcode.io/roadmap)"
      ],
      "metadata": {
        "id": "WYk6WxdFGND1"
      }
    },
    {
      "cell_type": "markdown",
      "source": [
        "### Leetcode Group Anagrams"
      ],
      "metadata": {
        "id": "-ulD_fAfDNL8"
      }
    },
    {
      "cell_type": "code",
      "source": [
        "strs1 = [\"eat\",\"tea\",\"tan\",\"ate\",\"nat\",\"bat\"]\n",
        "from collections import defaultdict\n",
        "# [[\"bat\"],[\"nat\",\"tan\"],[\"ate\",\"eat\",\"tea\"]]\n",
        "strs = [\"\".join(sorted(s)) for s in strs1]\n",
        "seen  = defaultdict(list)\n",
        "seen"
      ],
      "metadata": {
        "colab": {
          "base_uri": "https://localhost:8080/"
        },
        "id": "fVydeq1xYMyK",
        "outputId": "4a9549f9-f8b6-4b92-aac8-f34cc27d9932"
      },
      "execution_count": null,
      "outputs": [
        {
          "output_type": "execute_result",
          "data": {
            "text/plain": [
              "defaultdict(list, {})"
            ]
          },
          "metadata": {},
          "execution_count": 47
        }
      ]
    },
    {
      "cell_type": "code",
      "execution_count": null,
      "metadata": {
        "colab": {
          "base_uri": "https://localhost:8080/"
        },
        "id": "SGyp0y3OC_T0",
        "outputId": "a410c732-e4ec-4dcc-9d13-7df334480c5e"
      },
      "outputs": [
        {
          "output_type": "stream",
          "name": "stdout",
          "text": [
            "abt abt 5 bat\n",
            "aet aet 0 eat\n",
            "aet aet 1 tea\n",
            "aet aet 3 ate\n",
            "ant ant 2 tan\n",
            "ant ant 4 nat\n"
          ]
        },
        {
          "output_type": "execute_result",
          "data": {
            "text/plain": [
              "[['bat'], ['eat', 'tea', 'ate'], ['tan', 'nat']]"
            ]
          },
          "metadata": {},
          "execution_count": 45
        }
      ],
      "source": [
        "strs1 = [\"eat\",\"tea\",\"tan\",\"ate\",\"nat\",\"bat\"]\n",
        "# [[\"bat\"],[\"nat\",\"tan\"],[\"ate\",\"eat\",\"tea\"]]\n",
        "strs = [\"\".join(sorted(s)) for s in strs1]\n",
        "seen = {key: [] for key in set(strs)}\n",
        "for i in seen.keys():\n",
        "  for index, j in enumerate(strs):\n",
        "    if j == i:\n",
        "      print(i, j, index, strs1[index])\n",
        "      seen[i].append(strs1[index])\n",
        "    return [item for item in seen.values()]"
      ]
    },
    {
      "cell_type": "code",
      "source": [
        "# prompt:\n",
        "\n",
        "def groupAnagrams(strs):\n",
        "  \"\"\"\n",
        "  Given an array of strings strs, group the anagrams together.\n",
        "  Return an array of arrays, where each array is a group of anagrams.\n",
        "  \"\"\"\n",
        "  from collections import defaultdict\n",
        "  seen = defaultdict(list)\n",
        "  for s in strs:\n",
        "    seen[\"\".join(sorted(s))].append(s)\n",
        "  return [item for item in seen.values()]\n"
      ],
      "metadata": {
        "id": "YZoKmeXMF4h9"
      },
      "execution_count": null,
      "outputs": []
    },
    {
      "cell_type": "markdown",
      "source": [
        "#### 347. Top K Frequent Elements.   [Leetcode Link](https://leetcode.com/problems/top-k-frequent-elements/description/)\n",
        "\n",
        "Given an integer array nums and an integer k, return the k most frequent elements. You may return the answer in any order."
      ],
      "metadata": {
        "id": "vqvBK1MrF8Ir"
      }
    },
    {
      "cell_type": "code",
      "source": [
        "frequency"
      ],
      "metadata": {
        "colab": {
          "base_uri": "https://localhost:8080/"
        },
        "id": "6_H1xXthOzFa",
        "outputId": "cfab2871-6db0-4763-caa0-dfd121b28041"
      },
      "execution_count": null,
      "outputs": [
        {
          "output_type": "execute_result",
          "data": {
            "text/plain": [
              "{1: None, 2: None, 3: None}"
            ]
          },
          "metadata": {},
          "execution_count": 10
        }
      ]
    },
    {
      "cell_type": "code",
      "source": [
        "from collections import defaultdict\n",
        "nums = [1,1,1,2,2,3]\n",
        "k = 2\n",
        "# class Solution(object):\n",
        "def topKFrequent(nums, k):\n",
        "        \"\"\"\n",
        "        :type nums: List[int]\n",
        "        :type k: int\n",
        "        :rtype: List[int]\n",
        "        \"\"\"\n",
        "        frequency = dict.fromkeys(set(nums), 0)\n",
        "        for i in nums:\n",
        "            frequency[i]+= 1\n",
        "        sorted_items = sorted(frequency.items(), key=lambda x: x[1], reverse=True)\n",
        "        return [item[0] for item in sorted_items[:k]]\n"
      ],
      "metadata": {
        "id": "M3D4VHMbF4WK"
      },
      "execution_count": null,
      "outputs": []
    },
    {
      "cell_type": "code",
      "source": [
        "topKFrequent(nums, k)"
      ],
      "metadata": {
        "colab": {
          "base_uri": "https://localhost:8080/"
        },
        "id": "e8EWpot-F4JI",
        "outputId": "56579571-c7b0-44b9-a6bb-d86636cac218"
      },
      "execution_count": null,
      "outputs": [
        {
          "output_type": "execute_result",
          "data": {
            "text/plain": [
              "[1, 2]"
            ]
          },
          "metadata": {},
          "execution_count": 24
        }
      ]
    },
    {
      "cell_type": "code",
      "source": [
        "sorted_items"
      ],
      "metadata": {
        "colab": {
          "base_uri": "https://localhost:8080/"
        },
        "id": "l4rI_8RsF37D",
        "outputId": "b22c1c65-2fe0-45ed-b0c3-ef4984ed46a2"
      },
      "execution_count": null,
      "outputs": [
        {
          "output_type": "execute_result",
          "data": {
            "text/plain": [
              "[(1, 3), (2, 2), (3, 1)]"
            ]
          },
          "metadata": {},
          "execution_count": 25
        }
      ]
    },
    {
      "cell_type": "code",
      "source": [
        "b"
      ],
      "metadata": {
        "id": "qhhLKaBHF2_d"
      },
      "execution_count": null,
      "outputs": []
    }
  ],
  "metadata": {
    "kernelspec": {
      "display_name": "base",
      "language": "python",
      "name": "python3"
    },
    "language_info": {
      "codemirror_mode": {
        "name": "ipython",
        "version": 3
      },
      "file_extension": ".py",
      "mimetype": "text/x-python",
      "name": "python",
      "nbconvert_exporter": "python",
      "pygments_lexer": "ipython3",
      "version": "3.11.5"
    },
    "colab": {
      "provenance": [],
      "include_colab_link": true
    }
  },
  "nbformat": 4,
  "nbformat_minor": 0
}
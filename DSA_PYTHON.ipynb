{
  "cells": [
    {
      "cell_type": "markdown",
      "metadata": {
        "id": "view-in-github",
        "colab_type": "text"
      },
      "source": [
        "<a href=\"https://colab.research.google.com/github/waghmareps12/PYTHON_DSA/blob/main/DSA_PYTHON.ipynb\" target=\"_parent\"><img src=\"https://colab.research.google.com/assets/colab-badge.svg\" alt=\"Open In Colab\"/></a>"
      ]
    },
    {
      "cell_type": "code",
      "execution_count": null,
      "metadata": {
        "id": "2wmvJzEnC_T0"
      },
      "outputs": [],
      "source": []
    },
    {
      "cell_type": "markdown",
      "source": [
        "### Leetcode Group Anagrams"
      ],
      "metadata": {
        "id": "-ulD_fAfDNL8"
      }
    },
    {
      "cell_type": "code",
      "source": [
        "strs1 = [\"eat\",\"tea\",\"tan\",\"ate\",\"nat\",\"bat\"]\n",
        "from collections import defaultdict\n",
        "# [[\"bat\"],[\"nat\",\"tan\"],[\"ate\",\"eat\",\"tea\"]]\n",
        "strs = [\"\".join(sorted(s)) for s in strs1]\n",
        "seen  = defaultdict(list)\n",
        "seen"
      ],
      "metadata": {
        "colab": {
          "base_uri": "https://localhost:8080/"
        },
        "id": "fVydeq1xYMyK",
        "outputId": "4a9549f9-f8b6-4b92-aac8-f34cc27d9932"
      },
      "execution_count": null,
      "outputs": [
        {
          "output_type": "execute_result",
          "data": {
            "text/plain": [
              "defaultdict(list, {})"
            ]
          },
          "metadata": {},
          "execution_count": 47
        }
      ]
    },
    {
      "cell_type": "code",
      "execution_count": 1,
      "metadata": {
        "colab": {
          "base_uri": "https://localhost:8080/",
          "height": 140
        },
        "id": "SGyp0y3OC_T0",
        "outputId": "7746164d-0d1f-49f2-bd01-351cd07f1b50"
      },
      "outputs": [
        {
          "output_type": "error",
          "ename": "SyntaxError",
          "evalue": "'return' outside function (<ipython-input-1-d9d165bacdd8>, line 10)",
          "traceback": [
            "\u001b[0;36m  File \u001b[0;32m\"<ipython-input-1-d9d165bacdd8>\"\u001b[0;36m, line \u001b[0;32m10\u001b[0m\n\u001b[0;31m    return [item for item in seen.values()]\u001b[0m\n\u001b[0m    ^\u001b[0m\n\u001b[0;31mSyntaxError\u001b[0m\u001b[0;31m:\u001b[0m 'return' outside function\n"
          ]
        }
      ],
      "source": [
        "strs1 = [\"eat\",\"tea\",\"tan\",\"ate\",\"nat\",\"bat\"]\n",
        "# [[\"bat\"],[\"nat\",\"tan\"],[\"ate\",\"eat\",\"tea\"]]\n",
        "strs = [\"\".join(sorted(s)) for s in strs1]\n",
        "seen = {key: [] for key in set(strs)}\n",
        "for i in seen.keys():\n",
        "  for index, j in enumerate(strs):\n",
        "    if j == i:\n",
        "      print(i, j, index, strs1[index])\n",
        "      seen[i].append(strs1[index])\n",
        "    return [item for item in seen.values()]aaa"
      ]
    },
    {
      "cell_type": "code",
      "source": [
        "from collections import defaultdict\n",
        "class Solution:\n",
        "    def groupAnagrams(self, strs):\n",
        "        seen =  defaultdict(list)\n",
        "        for word in strs:\n",
        "            word1 = \"\".join(sorted(word))\n",
        "            seen[word1].append(word)\n",
        "        return [item for item in seen.values()]"
      ],
      "metadata": {
        "id": "C2eZ5xo6w2t7"
      },
      "execution_count": 8,
      "outputs": []
    }
  ],
  "metadata": {
    "kernelspec": {
      "display_name": "base",
      "language": "python",
      "name": "python3"
    },
    "language_info": {
      "codemirror_mode": {
        "name": "ipython",
        "version": 3
      },
      "file_extension": ".py",
      "mimetype": "text/x-python",
      "name": "python",
      "nbconvert_exporter": "python",
      "pygments_lexer": "ipython3",
      "version": "3.11.5"
    },
    "colab": {
      "provenance": [],
      "include_colab_link": true
    }
  },
  "nbformat": 4,
  "nbformat_minor": 0
}
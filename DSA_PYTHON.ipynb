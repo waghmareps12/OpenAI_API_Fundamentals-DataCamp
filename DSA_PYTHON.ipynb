{
  "cells": [
    {
      "cell_type": "markdown",
      "metadata": {
        "colab_type": "text",
        "id": "view-in-github"
      },
      "source": [
        "<a href=\"https://colab.research.google.com/github/waghmareps12/PYTHON_DSA/blob/main/DSA_PYTHON.ipynb\" target=\"_parent\"><img src=\"https://colab.research.google.com/assets/colab-badge.svg\" alt=\"Open In Colab\"/></a>"
      ]
    },
    {
      "cell_type": "markdown",
      "metadata": {
        "id": "WYk6WxdFGND1"
      },
      "source": [
        "### [Neetcode Roadmap](https://neetcode.io/roadmap)"
      ]
    },
    {
      "cell_type": "markdown",
      "metadata": {
        "id": "-ulD_fAfDNL8"
      },
      "source": [
        "### Leetcode Group Anagrams"
      ]
    },
    {
      "cell_type": "code",
      "execution_count": null,
      "metadata": {
        "colab": {
          "base_uri": "https://localhost:8080/"
        },
        "id": "fVydeq1xYMyK",
        "outputId": "4a9549f9-f8b6-4b92-aac8-f34cc27d9932"
      },
      "outputs": [
        {
          "data": {
            "text/plain": [
              "defaultdict(list, {})"
            ]
          },
          "execution_count": 47,
          "metadata": {},
          "output_type": "execute_result"
        }
      ],
      "source": [
        "strs1 = [\"eat\",\"tea\",\"tan\",\"ate\",\"nat\",\"bat\"]\n",
        "from collections import defaultdict\n",
        "# [[\"bat\"],[\"nat\",\"tan\"],[\"ate\",\"eat\",\"tea\"]]\n",
        "strs = [\"\".join(sorted(s)) for s in strs1]\n",
        "seen  = defaultdict(list)\n",
        "seen"
      ]
    },
    {
      "cell_type": "code",
      "execution_count": null,
      "metadata": {
        "colab": {
          "base_uri": "https://localhost:8080/"
        },
        "id": "SGyp0y3OC_T0",
        "outputId": "a410c732-e4ec-4dcc-9d13-7df334480c5e"
      },
      "outputs": [
        {
          "name": "stdout",
          "output_type": "stream",
          "text": [
            "abt abt 5 bat\n",
            "aet aet 0 eat\n",
            "aet aet 1 tea\n",
            "aet aet 3 ate\n",
            "ant ant 2 tan\n",
            "ant ant 4 nat\n"
          ]
        },
        {
          "data": {
            "text/plain": [
              "[['bat'], ['eat', 'tea', 'ate'], ['tan', 'nat']]"
            ]
          },
          "execution_count": 45,
          "metadata": {},
          "output_type": "execute_result"
        }
      ],
      "source": [
        "strs1 = [\"eat\",\"tea\",\"tan\",\"ate\",\"nat\",\"bat\"]\n",
        "# [[\"bat\"],[\"nat\",\"tan\"],[\"ate\",\"eat\",\"tea\"]]\n",
        "strs = [\"\".join(sorted(s)) for s in strs1]\n",
        "seen = {key: [] for key in set(strs)}\n",
        "for i in seen.keys():\n",
        "  for index, j in enumerate(strs):\n",
        "    if j == i:\n",
        "      print(i, j, index, strs1[index])\n",
        "      seen[i].append(strs1[index])\n",
        "    return [item for item in seen.values()]"
      ]
    },
    {
      "cell_type": "code",
      "execution_count": null,
      "metadata": {
        "id": "YZoKmeXMF4h9"
      },
      "outputs": [],
      "source": [
        "# prompt:\n",
        "\n",
        "def groupAnagrams(strs):\n",
        "  \"\"\"\n",
        "  Given an array of strings strs, group the anagrams together.\n",
        "  Return an array of arrays, where each array is a group of anagrams.\n",
        "  \"\"\"\n",
        "  from collections import defaultdict\n",
        "  seen = defaultdict(list)\n",
        "  for s in strs:\n",
        "    seen[\"\".join(sorted(s))].append(s)\n",
        "  return [item for item in seen.values()]\n"
      ]
    },
    {
      "cell_type": "markdown",
      "metadata": {
        "id": "vqvBK1MrF8Ir"
      },
      "source": [
        "#### 347. Top K Frequent Elements.   [Leetcode Link](https://leetcode.com/problems/top-k-frequent-elements/description/)\n",
        "\n",
        "Given an integer array nums and an integer k, return the k most frequent elements. You may return the answer in any order."
      ]
    },
    {
      "cell_type": "code",
      "execution_count": null,
      "metadata": {
        "colab": {
          "base_uri": "https://localhost:8080/"
        },
        "id": "6_H1xXthOzFa",
        "outputId": "cfab2871-6db0-4763-caa0-dfd121b28041"
      },
      "outputs": [
        {
          "data": {
            "text/plain": [
              "{1: None, 2: None, 3: None}"
            ]
          },
          "execution_count": 10,
          "metadata": {},
          "output_type": "execute_result"
        }
      ],
      "source": [
        "frequency"
      ]
    },
    {
      "cell_type": "code",
      "execution_count": null,
      "metadata": {
        "id": "M3D4VHMbF4WK"
      },
      "outputs": [],
      "source": [
        "from collections import defaultdict\n",
        "nums = [1,1,1,2,2,3]\n",
        "k = 2\n",
        "# class Solution(object):\n",
        "def topKFrequent(nums, k):\n",
        "        \"\"\"\n",
        "        :type nums: List[int]\n",
        "        :type k: int\n",
        "        :rtype: List[int]\n",
        "        \"\"\"\n",
        "        frequency = dict.fromkeys(set(nums), 0)\n",
        "        for i in nums:\n",
        "            frequency[i]+= 1\n",
        "        sorted_items = sorted(frequency.items(), key=lambda x: x[1], reverse=True)\n",
        "        return [item[0] for item in sorted_items[:k]]\n"
      ]
    },
    {
      "cell_type": "code",
      "execution_count": null,
      "metadata": {},
      "outputs": [],
      "source": [
        "for i in name :\n",
        "    print(2)"
      ]
    },
    {
      "cell_type": "code",
      "execution_count": 1,
      "metadata": {},
      "outputs": [],
      "source": [
        "name = \"Pranay\""
      ]
    },
    {
      "cell_type": "code",
      "execution_count": null,
      "metadata": {
        "colab": {
          "base_uri": "https://localhost:8080/"
        },
        "id": "e8EWpot-F4JI",
        "outputId": "56579571-c7b0-44b9-a6bb-d86636cac218"
      },
      "outputs": [
        {
          "data": {
            "text/plain": [
              "[1, 2]"
            ]
          },
          "execution_count": 24,
          "metadata": {},
          "output_type": "execute_result"
        }
      ],
      "source": [
        "topKFrequent(nums, k)"
      ]
    },
    {
      "cell_type": "code",
      "execution_count": null,
      "metadata": {
        "colab": {
          "base_uri": "https://localhost:8080/"
        },
        "id": "l4rI_8RsF37D",
        "outputId": "b22c1c65-2fe0-45ed-b0c3-ef4984ed46a2"
      },
      "outputs": [
        {
          "data": {
            "text/plain": [
              "[(1, 3), (2, 2), (3, 1)]"
            ]
          },
          "execution_count": 25,
          "metadata": {},
          "output_type": "execute_result"
        }
      ],
      "source": [
        "sorted_items"
      ]
    },
    {
      "cell_type": "code",
      "execution_count": null,
      "metadata": {
        "id": "qhhLKaBHF2_d"
      },
      "outputs": [],
      "source": [
        "b"
      ]
    }
  ],
  "metadata": {
    "colab": {
      "include_colab_link": true,
      "provenance": []
    },
    "kernelspec": {
      "display_name": "base",
      "language": "python",
      "name": "python3"
    },
    "language_info": {
      "codemirror_mode": {
        "name": "ipython",
        "version": 3
      },
      "file_extension": ".py",
      "mimetype": "text/x-python",
      "name": "python",
      "nbconvert_exporter": "python",
      "pygments_lexer": "ipython3",
      "version": "3.11.5"
    }
  },
  "nbformat": 4,
  "nbformat_minor": 0
}

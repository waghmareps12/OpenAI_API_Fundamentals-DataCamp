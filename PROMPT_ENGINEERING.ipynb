{
  "cells": [
    {
      "cell_type": "markdown",
      "metadata": {
        "colab_type": "text",
        "id": "view-in-github"
      },
      "source": [
        "<a href=\"https://colab.research.google.com/github/waghmareps12/PYTHON_DSA/blob/main/PROMPT_ENGINEERING.ipynb\" target=\"_parent\"><img src=\"https://colab.research.google.com/assets/colab-badge.svg\" alt=\"Open In Colab\"/></a>"
      ]
    },
    {
      "cell_type": "code",
      "execution_count": 2,
      "id": "special-sleeve",
      "metadata": {
        "id": "special-sleeve"
      },
      "outputs": [],
      "source": [
        "from openai import OpenAI\n",
        "client = OpenAI(api_key=<>)"
      ]
    },
    {
      "cell_type": "code",
      "execution_count": null,
      "id": "-QWBCCEtNCCC",
      "metadata": {
        "id": "-QWBCCEtNCCC"
      },
      "outputs": [],
      "source": [
        "def get_response(prompt):\n",
        "  # Create a request to the chat completions endpoint\n",
        "  response = client.chat.completions.create(model = \"gpt-3.5-turbo\",\n",
        "                                            messages = [{\"role\": \"user\",\"content\": prompt}],temperature = 0)\n",
        "  return response.choices[0].message.content\n",
        "\n",
        "# Test the function with your prompt\n",
        "response = get_response(\"write a poem about ChatGPT.\")\n",
        "print(response)"
      ]
    },
    {
      "cell_type": "code",
      "execution_count": null,
      "id": "BA3VB2yrNB95",
      "metadata": {
        "id": "BA3VB2yrNB95"
      },
      "outputs": [],
      "source": [
        "####"
      ]
    },
    {
      "cell_type": "markdown",
      "id": "XxV0iCAZOHf9",
      "metadata": {
        "id": "XxV0iCAZOHf9"
      },
      "source": [
        "### Priciple to use while writing Prompts\n",
        "\n",
        "1.   AVoid ambiguous word:\n",
        "\n",
        "    (like : understad, think, try, feel, know)\n",
        "      \n",
        "      instead use (Write, explain , complete, Describe, Evaluate )\n",
        "\n",
        "2.  Provide specific and detailed instructions regarding:\n",
        "    *   context\n",
        "    *   output length\n",
        "    *   Format\n",
        "    *   Style\n",
        "    *   Audience\n",
        "\n",
        "\n",
        "3.  Crafting a Well structured prompt with delimiters:\n",
        "\n",
        "\n",
        "    Start the prompt with instructions\n",
        "    Use Delimiters (parenthesis, brackets, backticks, etc.) to specify the input parts\n",
        "    mention with delimeters are used\n",
        "    Example: prompt = \"\"\"Summarize the text delimited by triple backticks into bullet points.   ```TEXT GOES HERE```\"\"\"\n",
        "\n",
        "    use formated strings\n",
        "    text = \"This is a sample text to summarize\"\n",
        "    prompt = f\"\"\"Summarize the text delimited by triple backticks into bullet points.```{text}```\"\"\"\n",
        "\n",
        "\n",
        "\n",
        "\n",
        "\n",
        "\n",
        "\n"
      ]
    },
    {
      "cell_type": "code",
      "execution_count": null,
      "id": "fMIwIUkBNB6L",
      "metadata": {
        "id": "fMIwIUkBNB6L"
      },
      "outputs": [],
      "source": [
        "# Create a prompt that completes the story\n",
        "\n",
        "prompt = f\"\"\"completes the given story delimited by triple backticks.\n",
        "```{story}```\"\"\"\n",
        "\n",
        "# Get the generated response\n",
        "response = get_response(prompt)\n",
        "\n",
        "print(\"\\n Original story: \\n\", story)\n",
        "print(\"\\n Generated story: \\n\", response)"
      ]
    },
    {
      "cell_type": "code",
      "execution_count": null,
      "id": "0IsyMDB-NB1X",
      "metadata": {
        "id": "0IsyMDB-NB1X"
      },
      "outputs": [],
      "source": [
        "# Create a request to complete the story\n",
        "# Create a request to complete the story\n",
        "prompt = f\"\"\"Complete the story delimited by triple backticks with only two paragraphs using the style of William Shakespeare.\n",
        " ```{story}```\"\"\"\n",
        "\n",
        "# Get the generated response\n",
        "response = get_response(prompt)\n",
        "\n",
        "print(\"\\n Original story: \\n\", story)\n",
        "print(\"\\n Generated story: \\n\", response)"
      ]
    },
    {
      "cell_type": "markdown",
      "id": "2hDRFIZ7VDhO",
      "metadata": {
        "id": "2hDRFIZ7VDhO"
      },
      "source": [
        "### Structured Output\n",
        "clearly mention the expected co;umns\n",
        "\n",
        "\n",
        "list : requorement for numbering should be mentioned in the prompt\n",
        "\n",
        "\n",
        "Structured Paragraphs: Mention structure requirements in prompt\n",
        "\n",
        "\n",
        "> prompt = \"Provide a structured paragraph with clear headings and subheadings about the benefits of regular exercise on overall health and well-being.\"\n",
        "\n",
        "\n",
        "\n"
      ]
    },
    {
      "cell_type": "code",
      "execution_count": null,
      "id": "b0_L33R7NBwX",
      "metadata": {
        "id": "b0_L33R7NBwX"
      },
      "outputs": [],
      "source": [
        "text = '''\"Once upon a time in a quaint little village, there lived a curious young boy named\n",
        "David. David was [...]\"'''\n",
        "instructions = \"You will be provided with a text delimited by triple backticks. Generate a suitable title for it.\"\n",
        "output_format = \"\"\"Use the following format for the output:\n",
        "- Text: <text we want to title>\n",
        "- Title: <the generated title>\"\"\"\n",
        "prompt = instructions + output_format + f\"```{text}```\"\n",
        "print(get_response(prompt))"
      ]
    },
    {
      "cell_type": "markdown",
      "id": "OqWTC3-lWt8g",
      "metadata": {
        "id": "OqWTC3-lWt8g"
      },
      "source": [
        "##### Conditional prompts 🇰\n",
        "Incorporate logic or conditions\n",
        "Conditional prompts follow an if-else style\n",
        "\n",
        "\n",
        "prompt = f\"\"\"You will be provided with a text delimited by triple backticks.\n",
        "If the text is written in English, suggest a suitable title for it.\n",
        "Otherwise, write 'I only understand English' .\n",
        "```{text}```\"\"\"\n",
        "\n",
        "\n",
        "\n",
        "Can incorporate multiple conditions\n",
        "\n",
        "\n",
        "\n",
        "prompt = f\"\"\"You will be provided with a text delimited by triple backticks.\n",
        "If the text is written in English, check if it contains the keyword 'technology'\n",
        ".\n",
        "```{text}```\"\"\""
      ]
    },
    {
      "cell_type": "code",
      "execution_count": null,
      "id": "uWUYyvUoYnFg",
      "metadata": {
        "id": "uWUYyvUoYnFg"
      },
      "outputs": [],
      "source": [
        "# Create a prompt that generates the table\n",
        "prompt = '''Generate a table containing 10 books with columns for Title, Author, and Year, that you should read given that you are a sci-fi lover.'''\n",
        "\n",
        "\n",
        "# Get the response\n",
        "response = get_response(prompt)\n",
        "print(response)"
      ]
    },
    {
      "cell_type": "code",
      "execution_count": null,
      "id": "6KRpHRhcNBp3",
      "metadata": {
        "id": "6KRpHRhcNBp3"
      },
      "outputs": [],
      "source": [
        "# Create the instructions\n",
        "instructions = \"You will be provided with a text delimited by triple backticks. Infer its language, then generate a suitable title for it. \"\n",
        "\n",
        "# Create the output format\n",
        "output_format = \"\"\"Use the following format for the output:\n",
        "         - Text: <the text>\n",
        "         - Language: <the text language>\n",
        "         - Title: <the generated title>\"\"\"\n",
        "\n",
        "# Create the final prompt\n",
        "prompt = instructions + output_format + f\"```{text}```\"\n",
        "response = get_response(prompt)\n",
        "print(response)"
      ]
    },
    {
      "cell_type": "markdown",
      "id": "Smp1tOCleWrN",
      "metadata": {
        "id": "Smp1tOCleWrN"
      },
      "source": []
    },
    {
      "cell_type": "code",
      "execution_count": 3,
      "id": "G_I8-a9ENBh6",
      "metadata": {
        "colab": {
          "base_uri": "https://localhost:8080/",
          "height": 140
        },
        "id": "G_I8-a9ENBh6",
        "outputId": "67e72cdc-e28b-4bf9-ddc9-3b2e8d141a9a"
      },
      "outputs": [
        {
          "ename": "SyntaxError",
          "evalue": "invalid syntax (<ipython-input-3-213c2e3be564>, line 2)",
          "output_type": "error",
          "traceback": [
            "\u001b[0;36m  File \u001b[0;32m\"<ipython-input-3-213c2e3be564>\"\u001b[0;36m, line \u001b[0;32m2\u001b[0m\n\u001b[0;31m    instructions =\u001b[0m\n\u001b[0m                   ^\u001b[0m\n\u001b[0;31mSyntaxError\u001b[0m\u001b[0;31m:\u001b[0m invalid syntax\n"
          ]
        }
      ],
      "source": [
        "\n",
        "# Create the instructions\n",
        "instructions =\n",
        "'''You will be provided with a text delimited by triple backticks.\n",
        " Infer its language, and the number of sentences then\n",
        " if the text contains more than one sentence\n",
        " generate a suitable title for it otherwise, write 'N/A' for the title.. '''\n",
        "\n",
        "# Create the output format\n",
        "output_format =\n",
        "\"\"\"Use the following format for the output:\n",
        "         - Text: <the text>\n",
        "         - Language: <the text language>\n",
        "         - N_sentences: <number of sentences>\n",
        "         - Title: <the generated title>\"\"\"\n",
        "\n",
        "prompt = instructions + output_format + f\"```{text}```\"\n",
        "response = get_response(prompt)\n",
        "print(response)"
      ]
    },
    {
      "cell_type": "markdown",
      "id": "2MBeINfZeXdU",
      "metadata": {
        "id": "2MBeINfZeXdU"
      },
      "source": [
        "### Few Shot Learning"
      ]
    },
    {
      "cell_type": "markdown",
      "id": "dqLe6iGzeXjW",
      "metadata": {
        "id": "dqLe6iGzeXjW"
      },
      "source": []
    },
    {
      "cell_type": "code",
      "execution_count": null,
      "id": "MnED3wwXNBXa",
      "metadata": {
        "id": "MnED3wwXNBXa"
      },
      "outputs": [],
      "source": [
        "response = client.chat.completions.create(\n",
        "  model = \"gpt-3.5-turbo\",\n",
        "  # Provide the examples as previous conversations\n",
        "  messages = [{\"role\": \"user\", \"content\": \"The product quality exceeded my expectations\"},\n",
        "              {\"role\": \"assistant\", \"content\": \"1\"},\n",
        "              {\"role\": \"user\", \"content\": \"I had a terrible experience with this product's customer service\"},\n",
        "              {\"role\": \"assistant\", \"content\": \"-1\"},\n",
        "              # Provide the text for the model to classify\n",
        "              {\"role\": \"user\", \"content\": \"The price of the product is really fair given its features\"}\n",
        "             ],\n",
        "  temperature = 0\n",
        ")\n",
        "print(response.choices[0].message.content)"
      ]
    },
    {
      "cell_type": "markdown",
      "id": "iZcq2EB0kra4",
      "metadata": {
        "id": "iZcq2EB0kra4"
      },
      "source": [
        "### MultiStep Prompting"
      ]
    },
    {
      "cell_type": "code",
      "execution_count": null,
      "id": "IF_NzBKunXum",
      "metadata": {
        "id": "IF_NzBKunXum"
      },
      "outputs": [],
      "source": [
        "prompt = \"\"\"Compose a travel blog as follows:\n",
        "Step 1: Introduce the destination.\n",
        "Step 2: Share personal adventures during the trip.\n",
        "Step 3: Summarize the journey.\n",
        "\"\"\"\n",
        "print(get\n",
        "_\n",
        "response(prompt))"
      ]
    },
    {
      "cell_type": "code",
      "execution_count": null,
      "id": "gT7nr6irkuN9",
      "metadata": {
        "id": "gT7nr6irkuN9"
      },
      "outputs": [],
      "source": [
        "\n",
        "# Create a prompt detailing steps to plan the trip\n",
        "prompt = \"\"\"The plan should have four potential locations for your beach vacation,\n",
        "and each location should have some accommodation options, some activities, and an evaluation of the pros and cons. answer as follows:\n",
        "\n",
        "step 1 :  Mention the location ,\n",
        "step 2 :  share some accomodations options ,\n",
        "step 3 :  share some activities to do  ,\n",
        "step 4 :  evaluate the pros and cons of the location ,\n",
        "\n",
        "\"\"\"\n",
        "\n",
        "response = get_response(prompt)\n",
        "print(response)"
      ]
    },
    {
      "cell_type": "code",
      "execution_count": null,
      "id": "oxTUjCSxoziT",
      "metadata": {
        "id": "oxTUjCSxoziT"
      },
      "outputs": [],
      "source": [
        "\n",
        "code = '''\n",
        "def calculate_rectangle_area(length, width):\n",
        "    area = length * width\n",
        "    return area\n",
        "'''\n",
        "\n",
        "# Create a prompt that analyzes correctness of the code\n",
        "prompt = f\"\"\"Determine the correctness of the code delimited by triple backticks as follows:\n",
        "step 1 : check if the function has correct syntax\n",
        "step 2 : the fucntion takes two inputs,\n",
        "step 3 : the fucntion returns one output.\n",
        "  ```{code}```\"\"\"\n",
        "\n",
        "response = get_response(prompt)\n",
        "print(response)"
      ]
    },
    {
      "cell_type": "markdown",
      "id": "AZUG9-zisbZ3",
      "metadata": {
        "id": "AZUG9-zisbZ3"
      },
      "source": [
        "### self_consistency instruction Prompting"
      ]
    },
    {
      "cell_type": "code",
      "execution_count": null,
      "id": "iyjdk36csYBh",
      "metadata": {
        "id": "iyjdk36csYBh"
      },
      "outputs": [],
      "source": [
        "# Create the self_consistency instruction\n",
        "self_consistency_instruction = \"\"\"Imagine three completely independent experts who\n",
        "reason differently are answering this question. The final answer is obtained by\n",
        "majority vote. The question is: \"\"\"\n",
        "\n",
        "# Create the problem to solve\n",
        "problem_to_solve = \"\"\"If you own a store that sells laptops and mobile phones. \n",
        "You start your day with 50 devices in the store, out of which 60% are mobile phones.\n",
        " Throughout the day, three clients visited the store, each of them bought one mobile phone,\n",
        " and one of them bought additionally a laptop. Also, you added to your collection 10 laptops\n",
        " and 5 mobile phones. How many laptops and mobile phones do you have by the end of the day?\"\"\"\n",
        "\n",
        "# Create the final prompt\n",
        "prompt = self_consistency_instruction + problem_to_solve\n",
        "\n",
        "response = get_response(prompt)\n",
        "print(response)"
      ]
    },
    {
      "cell_type": "markdown",
      "id": "b4cc8028",
      "metadata": {},
      "source": [
        "#### Text summarization and expansion"
      ]
    },
    {
      "cell_type": "code",
      "execution_count": null,
      "id": "0d17c10f",
      "metadata": {},
      "outputs": [],
      "source": []
    },
    {
      "cell_type": "code",
      "execution_count": null,
      "id": "b53d6217",
      "metadata": {},
      "outputs": [],
      "source": []
    },
    {
      "cell_type": "code",
      "execution_count": null,
      "id": "328bd32d",
      "metadata": {},
      "outputs": [],
      "source": []
    },
    {
      "cell_type": "code",
      "execution_count": null,
      "id": "b5e1a529",
      "metadata": {},
      "outputs": [],
      "source": []
    },
    {
      "cell_type": "code",
      "execution_count": null,
      "id": "349a73bc",
      "metadata": {},
      "outputs": [],
      "source": []
    }
  ],
  "metadata": {
    "colab": {
      "include_colab_link": true,
      "provenance": []
    },
    "kernelspec": {
      "display_name": "Python 3",
      "name": "python3"
    },
    "language_info": {
      "codemirror_mode": {
        "name": "ipython",
        "version": 3
      },
      "file_extension": ".py",
      "mimetype": "text/x-python",
      "name": "python",
      "nbconvert_exporter": "python",
      "pygments_lexer": "ipython3",
      "version": "3.9.2"
    }
  },
  "nbformat": 4,
  "nbformat_minor": 5
}
